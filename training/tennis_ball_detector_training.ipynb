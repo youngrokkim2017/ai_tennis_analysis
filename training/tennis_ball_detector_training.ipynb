{
 "cells": [
  {
   "cell_type": "code",
   "execution_count": 1,
   "metadata": {},
   "outputs": [
    {
     "name": "stdout",
     "output_type": "stream",
     "text": [
      "Requirement already satisfied: roboflow in /Users/patrick/Documents/dev/ai_tennis_analysis/.venv/lib/python3.9/site-packages (1.1.50)\n",
      "Requirement already satisfied: idna==3.7 in /Users/patrick/Documents/dev/ai_tennis_analysis/.venv/lib/python3.9/site-packages (from roboflow) (3.7)\n",
      "Requirement already satisfied: python-dotenv in /Users/patrick/Documents/dev/ai_tennis_analysis/.venv/lib/python3.9/site-packages (from roboflow) (1.0.1)\n",
      "Requirement already satisfied: urllib3>=1.26.6 in /Users/patrick/Documents/dev/ai_tennis_analysis/.venv/lib/python3.9/site-packages (from roboflow) (2.3.0)\n",
      "Requirement already satisfied: requests in /Users/patrick/Documents/dev/ai_tennis_analysis/.venv/lib/python3.9/site-packages (from roboflow) (2.32.3)\n",
      "Requirement already satisfied: cycler in /Users/patrick/Documents/dev/ai_tennis_analysis/.venv/lib/python3.9/site-packages (from roboflow) (0.12.1)\n",
      "Requirement already satisfied: python-dateutil in /Users/patrick/Documents/dev/ai_tennis_analysis/.venv/lib/python3.9/site-packages (from roboflow) (2.9.0.post0)\n",
      "Requirement already satisfied: kiwisolver>=1.3.1 in /Users/patrick/Documents/dev/ai_tennis_analysis/.venv/lib/python3.9/site-packages (from roboflow) (1.4.7)\n",
      "Requirement already satisfied: opencv-python-headless==4.10.0.84 in /Users/patrick/Documents/dev/ai_tennis_analysis/.venv/lib/python3.9/site-packages (from roboflow) (4.10.0.84)\n",
      "Requirement already satisfied: six in /Users/patrick/Documents/dev/ai_tennis_analysis/.venv/lib/python3.9/site-packages (from roboflow) (1.17.0)\n",
      "Requirement already satisfied: numpy>=1.18.5 in /Users/patrick/Documents/dev/ai_tennis_analysis/.venv/lib/python3.9/site-packages (from roboflow) (1.26.4)\n",
      "Requirement already satisfied: requests-toolbelt in /Users/patrick/Documents/dev/ai_tennis_analysis/.venv/lib/python3.9/site-packages (from roboflow) (1.0.0)\n",
      "Requirement already satisfied: Pillow>=7.1.2 in /Users/patrick/Documents/dev/ai_tennis_analysis/.venv/lib/python3.9/site-packages (from roboflow) (11.1.0)\n",
      "Requirement already satisfied: filetype in /Users/patrick/Documents/dev/ai_tennis_analysis/.venv/lib/python3.9/site-packages (from roboflow) (1.2.0)\n",
      "Requirement already satisfied: PyYAML>=5.3.1 in /Users/patrick/Documents/dev/ai_tennis_analysis/.venv/lib/python3.9/site-packages (from roboflow) (6.0.2)\n",
      "Requirement already satisfied: matplotlib in /Users/patrick/Documents/dev/ai_tennis_analysis/.venv/lib/python3.9/site-packages (from roboflow) (3.9.4)\n",
      "Requirement already satisfied: tqdm>=4.41.0 in /Users/patrick/Documents/dev/ai_tennis_analysis/.venv/lib/python3.9/site-packages (from roboflow) (4.67.1)\n",
      "Requirement already satisfied: certifi in /Users/patrick/Documents/dev/ai_tennis_analysis/.venv/lib/python3.9/site-packages (from roboflow) (2024.12.14)\n",
      "Requirement already satisfied: importlib-resources>=3.2.0 in /Users/patrick/Documents/dev/ai_tennis_analysis/.venv/lib/python3.9/site-packages (from matplotlib->roboflow) (6.5.2)\n",
      "Requirement already satisfied: pyparsing>=2.3.1 in /Users/patrick/Documents/dev/ai_tennis_analysis/.venv/lib/python3.9/site-packages (from matplotlib->roboflow) (3.2.1)\n",
      "Requirement already satisfied: fonttools>=4.22.0 in /Users/patrick/Documents/dev/ai_tennis_analysis/.venv/lib/python3.9/site-packages (from matplotlib->roboflow) (4.55.3)\n",
      "Requirement already satisfied: packaging>=20.0 in /Users/patrick/Documents/dev/ai_tennis_analysis/.venv/lib/python3.9/site-packages (from matplotlib->roboflow) (24.2)\n",
      "Requirement already satisfied: contourpy>=1.0.1 in /Users/patrick/Documents/dev/ai_tennis_analysis/.venv/lib/python3.9/site-packages (from matplotlib->roboflow) (1.3.0)\n",
      "Requirement already satisfied: zipp>=3.1.0 in /Users/patrick/Documents/dev/ai_tennis_analysis/.venv/lib/python3.9/site-packages (from importlib-resources>=3.2.0->matplotlib->roboflow) (3.21.0)\n",
      "Requirement already satisfied: charset-normalizer<4,>=2 in /Users/patrick/Documents/dev/ai_tennis_analysis/.venv/lib/python3.9/site-packages (from requests->roboflow) (3.4.1)\n",
      "\u001b[33mWARNING: You are using pip version 21.2.4; however, version 24.3.1 is available.\n",
      "You should consider upgrading via the '/Users/patrick/Documents/dev/ai_tennis_analysis/.venv/bin/python3 -m pip install --upgrade pip' command.\u001b[0m\n",
      "Requirement already satisfied: ultralytics in /Users/patrick/Documents/dev/ai_tennis_analysis/.venv/lib/python3.9/site-packages (8.3.58)\n",
      "Requirement already satisfied: py-cpuinfo in /Users/patrick/Documents/dev/ai_tennis_analysis/.venv/lib/python3.9/site-packages (from ultralytics) (9.0.0)\n",
      "Requirement already satisfied: pillow>=7.1.2 in /Users/patrick/Documents/dev/ai_tennis_analysis/.venv/lib/python3.9/site-packages (from ultralytics) (11.1.0)\n",
      "Requirement already satisfied: tqdm>=4.64.0 in /Users/patrick/Documents/dev/ai_tennis_analysis/.venv/lib/python3.9/site-packages (from ultralytics) (4.67.1)\n",
      "Requirement already satisfied: ultralytics-thop>=2.0.0 in /Users/patrick/Documents/dev/ai_tennis_analysis/.venv/lib/python3.9/site-packages (from ultralytics) (2.0.13)\n",
      "Requirement already satisfied: scipy>=1.4.1 in /Users/patrick/Documents/dev/ai_tennis_analysis/.venv/lib/python3.9/site-packages (from ultralytics) (1.13.1)\n",
      "Requirement already satisfied: requests>=2.23.0 in /Users/patrick/Documents/dev/ai_tennis_analysis/.venv/lib/python3.9/site-packages (from ultralytics) (2.32.3)\n",
      "Requirement already satisfied: numpy<2.0.0 in /Users/patrick/Documents/dev/ai_tennis_analysis/.venv/lib/python3.9/site-packages (from ultralytics) (1.26.4)\n",
      "Requirement already satisfied: pyyaml>=5.3.1 in /Users/patrick/Documents/dev/ai_tennis_analysis/.venv/lib/python3.9/site-packages (from ultralytics) (6.0.2)\n",
      "Requirement already satisfied: torchvision>=0.9.0 in /Users/patrick/Documents/dev/ai_tennis_analysis/.venv/lib/python3.9/site-packages (from ultralytics) (0.20.1)\n",
      "Requirement already satisfied: psutil in /Users/patrick/Documents/dev/ai_tennis_analysis/.venv/lib/python3.9/site-packages (from ultralytics) (6.1.1)\n",
      "Requirement already satisfied: opencv-python>=4.6.0 in /Users/patrick/Documents/dev/ai_tennis_analysis/.venv/lib/python3.9/site-packages (from ultralytics) (4.10.0.84)\n",
      "Requirement already satisfied: torch>=1.8.0 in /Users/patrick/Documents/dev/ai_tennis_analysis/.venv/lib/python3.9/site-packages (from ultralytics) (2.5.1)\n",
      "Requirement already satisfied: pandas>=1.1.4 in /Users/patrick/Documents/dev/ai_tennis_analysis/.venv/lib/python3.9/site-packages (from ultralytics) (2.2.3)\n",
      "Requirement already satisfied: seaborn>=0.11.0 in /Users/patrick/Documents/dev/ai_tennis_analysis/.venv/lib/python3.9/site-packages (from ultralytics) (0.13.2)\n",
      "Requirement already satisfied: matplotlib>=3.3.0 in /Users/patrick/Documents/dev/ai_tennis_analysis/.venv/lib/python3.9/site-packages (from ultralytics) (3.9.4)\n",
      "Requirement already satisfied: fonttools>=4.22.0 in /Users/patrick/Documents/dev/ai_tennis_analysis/.venv/lib/python3.9/site-packages (from matplotlib>=3.3.0->ultralytics) (4.55.3)\n",
      "Requirement already satisfied: contourpy>=1.0.1 in /Users/patrick/Documents/dev/ai_tennis_analysis/.venv/lib/python3.9/site-packages (from matplotlib>=3.3.0->ultralytics) (1.3.0)\n",
      "Requirement already satisfied: pyparsing>=2.3.1 in /Users/patrick/Documents/dev/ai_tennis_analysis/.venv/lib/python3.9/site-packages (from matplotlib>=3.3.0->ultralytics) (3.2.1)\n",
      "Requirement already satisfied: kiwisolver>=1.3.1 in /Users/patrick/Documents/dev/ai_tennis_analysis/.venv/lib/python3.9/site-packages (from matplotlib>=3.3.0->ultralytics) (1.4.7)\n",
      "Requirement already satisfied: cycler>=0.10 in /Users/patrick/Documents/dev/ai_tennis_analysis/.venv/lib/python3.9/site-packages (from matplotlib>=3.3.0->ultralytics) (0.12.1)\n",
      "Requirement already satisfied: importlib-resources>=3.2.0 in /Users/patrick/Documents/dev/ai_tennis_analysis/.venv/lib/python3.9/site-packages (from matplotlib>=3.3.0->ultralytics) (6.5.2)\n",
      "Requirement already satisfied: python-dateutil>=2.7 in /Users/patrick/Documents/dev/ai_tennis_analysis/.venv/lib/python3.9/site-packages (from matplotlib>=3.3.0->ultralytics) (2.9.0.post0)\n",
      "Requirement already satisfied: packaging>=20.0 in /Users/patrick/Documents/dev/ai_tennis_analysis/.venv/lib/python3.9/site-packages (from matplotlib>=3.3.0->ultralytics) (24.2)\n",
      "Requirement already satisfied: zipp>=3.1.0 in /Users/patrick/Documents/dev/ai_tennis_analysis/.venv/lib/python3.9/site-packages (from importlib-resources>=3.2.0->matplotlib>=3.3.0->ultralytics) (3.21.0)\n",
      "Requirement already satisfied: pytz>=2020.1 in /Users/patrick/Documents/dev/ai_tennis_analysis/.venv/lib/python3.9/site-packages (from pandas>=1.1.4->ultralytics) (2024.2)\n",
      "Requirement already satisfied: tzdata>=2022.7 in /Users/patrick/Documents/dev/ai_tennis_analysis/.venv/lib/python3.9/site-packages (from pandas>=1.1.4->ultralytics) (2024.2)\n",
      "Requirement already satisfied: six>=1.5 in /Users/patrick/Documents/dev/ai_tennis_analysis/.venv/lib/python3.9/site-packages (from python-dateutil>=2.7->matplotlib>=3.3.0->ultralytics) (1.17.0)\n",
      "Requirement already satisfied: urllib3<3,>=1.21.1 in /Users/patrick/Documents/dev/ai_tennis_analysis/.venv/lib/python3.9/site-packages (from requests>=2.23.0->ultralytics) (2.3.0)\n",
      "Requirement already satisfied: certifi>=2017.4.17 in /Users/patrick/Documents/dev/ai_tennis_analysis/.venv/lib/python3.9/site-packages (from requests>=2.23.0->ultralytics) (2024.12.14)\n",
      "Requirement already satisfied: idna<4,>=2.5 in /Users/patrick/Documents/dev/ai_tennis_analysis/.venv/lib/python3.9/site-packages (from requests>=2.23.0->ultralytics) (3.7)\n",
      "Requirement already satisfied: charset-normalizer<4,>=2 in /Users/patrick/Documents/dev/ai_tennis_analysis/.venv/lib/python3.9/site-packages (from requests>=2.23.0->ultralytics) (3.4.1)\n",
      "Requirement already satisfied: sympy==1.13.1 in /Users/patrick/Documents/dev/ai_tennis_analysis/.venv/lib/python3.9/site-packages (from torch>=1.8.0->ultralytics) (1.13.1)\n",
      "Requirement already satisfied: networkx in /Users/patrick/Documents/dev/ai_tennis_analysis/.venv/lib/python3.9/site-packages (from torch>=1.8.0->ultralytics) (3.2.1)\n",
      "Requirement already satisfied: fsspec in /Users/patrick/Documents/dev/ai_tennis_analysis/.venv/lib/python3.9/site-packages (from torch>=1.8.0->ultralytics) (2024.12.0)\n",
      "Requirement already satisfied: jinja2 in /Users/patrick/Documents/dev/ai_tennis_analysis/.venv/lib/python3.9/site-packages (from torch>=1.8.0->ultralytics) (3.1.5)\n",
      "Requirement already satisfied: typing-extensions>=4.8.0 in /Users/patrick/Documents/dev/ai_tennis_analysis/.venv/lib/python3.9/site-packages (from torch>=1.8.0->ultralytics) (4.12.2)\n",
      "Requirement already satisfied: filelock in /Users/patrick/Documents/dev/ai_tennis_analysis/.venv/lib/python3.9/site-packages (from torch>=1.8.0->ultralytics) (3.16.1)\n",
      "Requirement already satisfied: mpmath<1.4,>=1.1.0 in /Users/patrick/Documents/dev/ai_tennis_analysis/.venv/lib/python3.9/site-packages (from sympy==1.13.1->torch>=1.8.0->ultralytics) (1.3.0)\n",
      "Requirement already satisfied: MarkupSafe>=2.0 in /Users/patrick/Documents/dev/ai_tennis_analysis/.venv/lib/python3.9/site-packages (from jinja2->torch>=1.8.0->ultralytics) (3.0.2)\n",
      "\u001b[33mWARNING: You are using pip version 21.2.4; however, version 24.3.1 is available.\n",
      "You should consider upgrading via the '/Users/patrick/Documents/dev/ai_tennis_analysis/.venv/bin/python3 -m pip install --upgrade pip' command.\u001b[0m\n"
     ]
    }
   ],
   "source": [
    "!pip install roboflow\n",
    "!pip install ultralytics"
   ]
  },
  {
   "cell_type": "markdown",
   "metadata": {},
   "source": [
    "# Get Dataset"
   ]
  },
  {
   "cell_type": "code",
   "execution_count": 2,
   "metadata": {},
   "outputs": [
    {
     "name": "stderr",
     "output_type": "stream",
     "text": [
      "/Users/patrick/Documents/dev/ai_tennis_analysis/.venv/lib/python3.9/site-packages/urllib3/__init__.py:35: NotOpenSSLWarning: urllib3 v2 only supports OpenSSL 1.1.1+, currently the 'ssl' module is compiled with 'LibreSSL 2.8.3'. See: https://github.com/urllib3/urllib3/issues/3020\n",
      "  warnings.warn(\n"
     ]
    },
    {
     "name": "stdout",
     "output_type": "stream",
     "text": [
      "loading Roboflow workspace...\n",
      "loading Roboflow project...\n"
     ]
    },
    {
     "name": "stderr",
     "output_type": "stream",
     "text": [
      "Downloading Dataset Version Zip in tennis-ball-detection-6 to yolov5pytorch:: 100%|██████████| 52040/52040 [00:12<00:00, 4212.83it/s]"
     ]
    },
    {
     "name": "stdout",
     "output_type": "stream",
     "text": [
      "\n"
     ]
    },
    {
     "name": "stderr",
     "output_type": "stream",
     "text": [
      "\n",
      "Extracting Dataset Version Zip to tennis-ball-detection-6 in yolov5pytorch:: 100%|██████████| 1168/1168 [00:00<00:00, 6481.58it/s]\n"
     ]
    }
   ],
   "source": [
    "from roboflow import Roboflow\n",
    "rf = Roboflow(api_key=\"5enVxeiJgRQvIEOlxLds\")\n",
    "project = rf.workspace(\"viren-dhanwani\").project(\"tennis-ball-detection\")\n",
    "version = project.version(6)\n",
    "dataset = version.download(\"yolov5\")\n",
    "                \n",
    "                "
   ]
  },
  {
   "cell_type": "code",
   "execution_count": 2,
   "metadata": {},
   "outputs": [],
   "source": [
    "import shutil"
   ]
  },
  {
   "cell_type": "code",
   "execution_count": 3,
   "metadata": {},
   "outputs": [
    {
     "data": {
      "text/plain": [
       "'tennis-ball-detection-6/tennis-ball-detection-6/valid'"
      ]
     },
     "execution_count": 3,
     "metadata": {},
     "output_type": "execute_result"
    }
   ],
   "source": [
    "shutil.move(\"tennis-ball-detection-6/train\",\n",
    "            \"tennis-ball-detection-6/tennis-ball-detection-6/train\",\n",
    "            )\n",
    "shutil.move(\"tennis-ball-detection-6/test\",\n",
    "            \"tennis-ball-detection-6/tennis-ball-detection-6/test\",\n",
    "            )\n",
    "shutil.move(\"tennis-ball-detection-6/valid\",\n",
    "            \"tennis-ball-detection-6/tennis-ball-detection-6/valid\",\n",
    "            )"
   ]
  }
 ],
 "metadata": {
  "kernelspec": {
   "display_name": ".venv",
   "language": "python",
   "name": "python3"
  },
  "language_info": {
   "codemirror_mode": {
    "name": "ipython",
    "version": 3
   },
   "file_extension": ".py",
   "mimetype": "text/x-python",
   "name": "python",
   "nbconvert_exporter": "python",
   "pygments_lexer": "ipython3",
   "version": "3.9.6"
  }
 },
 "nbformat": 4,
 "nbformat_minor": 2
}
