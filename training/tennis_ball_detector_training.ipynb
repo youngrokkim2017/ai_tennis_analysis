{
 "cells": [
  {
   "cell_type": "code",
   "execution_count": 1,
   "metadata": {},
   "outputs": [
    {
     "name": "stdout",
     "output_type": "stream",
     "text": [
      "Collecting roboflow\n",
      "  Downloading roboflow-1.1.50-py3-none-any.whl (81 kB)\n",
      "\u001b[K     |████████████████████████████████| 81 kB 1.7 MB/s eta 0:00:011\n",
      "\u001b[?25hRequirement already satisfied: PyYAML>=5.3.1 in /Users/patrick/Documents/dev/ai_tennis_analysis/.venv/lib/python3.9/site-packages (from roboflow) (6.0.2)\n",
      "Requirement already satisfied: urllib3>=1.26.6 in /Users/patrick/Documents/dev/ai_tennis_analysis/.venv/lib/python3.9/site-packages (from roboflow) (2.3.0)\n",
      "Requirement already satisfied: six in /Users/patrick/Documents/dev/ai_tennis_analysis/.venv/lib/python3.9/site-packages (from roboflow) (1.17.0)\n",
      "Collecting python-dotenv\n",
      "  Using cached python_dotenv-1.0.1-py3-none-any.whl (19 kB)\n",
      "Collecting filetype\n",
      "  Downloading filetype-1.2.0-py2.py3-none-any.whl (19 kB)\n",
      "Requirement already satisfied: kiwisolver>=1.3.1 in /Users/patrick/Documents/dev/ai_tennis_analysis/.venv/lib/python3.9/site-packages (from roboflow) (1.4.7)\n",
      "Collecting requests-toolbelt\n",
      "  Using cached requests_toolbelt-1.0.0-py2.py3-none-any.whl (54 kB)\n",
      "Requirement already satisfied: numpy>=1.18.5 in /Users/patrick/Documents/dev/ai_tennis_analysis/.venv/lib/python3.9/site-packages (from roboflow) (1.26.4)\n",
      "Requirement already satisfied: Pillow>=7.1.2 in /Users/patrick/Documents/dev/ai_tennis_analysis/.venv/lib/python3.9/site-packages (from roboflow) (11.1.0)\n",
      "Requirement already satisfied: matplotlib in /Users/patrick/Documents/dev/ai_tennis_analysis/.venv/lib/python3.9/site-packages (from roboflow) (3.9.4)\n",
      "Requirement already satisfied: certifi in /Users/patrick/Documents/dev/ai_tennis_analysis/.venv/lib/python3.9/site-packages (from roboflow) (2024.12.14)\n",
      "Requirement already satisfied: requests in /Users/patrick/Documents/dev/ai_tennis_analysis/.venv/lib/python3.9/site-packages (from roboflow) (2.32.3)\n",
      "Requirement already satisfied: tqdm>=4.41.0 in /Users/patrick/Documents/dev/ai_tennis_analysis/.venv/lib/python3.9/site-packages (from roboflow) (4.67.1)\n",
      "Collecting idna==3.7\n",
      "  Using cached idna-3.7-py3-none-any.whl (66 kB)\n",
      "Collecting opencv-python-headless==4.10.0.84\n",
      "  Downloading opencv_python_headless-4.10.0.84-cp37-abi3-macosx_11_0_arm64.whl (54.8 MB)\n",
      "\u001b[K     |████████████████████████████████| 54.8 MB 6.5 MB/s eta 0:00:01\n",
      "\u001b[?25hRequirement already satisfied: cycler in /Users/patrick/Documents/dev/ai_tennis_analysis/.venv/lib/python3.9/site-packages (from roboflow) (0.12.1)\n",
      "Requirement already satisfied: python-dateutil in /Users/patrick/Documents/dev/ai_tennis_analysis/.venv/lib/python3.9/site-packages (from roboflow) (2.9.0.post0)\n",
      "Requirement already satisfied: pyparsing>=2.3.1 in /Users/patrick/Documents/dev/ai_tennis_analysis/.venv/lib/python3.9/site-packages (from matplotlib->roboflow) (3.2.1)\n",
      "Requirement already satisfied: contourpy>=1.0.1 in /Users/patrick/Documents/dev/ai_tennis_analysis/.venv/lib/python3.9/site-packages (from matplotlib->roboflow) (1.3.0)\n",
      "Requirement already satisfied: packaging>=20.0 in /Users/patrick/Documents/dev/ai_tennis_analysis/.venv/lib/python3.9/site-packages (from matplotlib->roboflow) (24.2)\n",
      "Requirement already satisfied: importlib-resources>=3.2.0 in /Users/patrick/Documents/dev/ai_tennis_analysis/.venv/lib/python3.9/site-packages (from matplotlib->roboflow) (6.5.2)\n",
      "Requirement already satisfied: fonttools>=4.22.0 in /Users/patrick/Documents/dev/ai_tennis_analysis/.venv/lib/python3.9/site-packages (from matplotlib->roboflow) (4.55.3)\n",
      "Requirement already satisfied: zipp>=3.1.0 in /Users/patrick/Documents/dev/ai_tennis_analysis/.venv/lib/python3.9/site-packages (from importlib-resources>=3.2.0->matplotlib->roboflow) (3.21.0)\n",
      "Requirement already satisfied: charset-normalizer<4,>=2 in /Users/patrick/Documents/dev/ai_tennis_analysis/.venv/lib/python3.9/site-packages (from requests->roboflow) (3.4.1)\n",
      "Installing collected packages: idna, requests-toolbelt, python-dotenv, opencv-python-headless, filetype, roboflow\n",
      "  Attempting uninstall: idna\n",
      "    Found existing installation: idna 3.10\n",
      "    Uninstalling idna-3.10:\n",
      "      Successfully uninstalled idna-3.10\n",
      "Successfully installed filetype-1.2.0 idna-3.7 opencv-python-headless-4.10.0.84 python-dotenv-1.0.1 requests-toolbelt-1.0.0 roboflow-1.1.50\n",
      "\u001b[33mWARNING: You are using pip version 21.2.4; however, version 24.3.1 is available.\n",
      "You should consider upgrading via the '/Users/patrick/Documents/dev/ai_tennis_analysis/.venv/bin/python3 -m pip install --upgrade pip' command.\u001b[0m\n",
      "Requirement already satisfied: ultralytics in /Users/patrick/Documents/dev/ai_tennis_analysis/.venv/lib/python3.9/site-packages (8.3.58)\n",
      "Requirement already satisfied: seaborn>=0.11.0 in /Users/patrick/Documents/dev/ai_tennis_analysis/.venv/lib/python3.9/site-packages (from ultralytics) (0.13.2)\n",
      "Requirement already satisfied: numpy<2.0.0 in /Users/patrick/Documents/dev/ai_tennis_analysis/.venv/lib/python3.9/site-packages (from ultralytics) (1.26.4)\n",
      "Requirement already satisfied: torch>=1.8.0 in /Users/patrick/Documents/dev/ai_tennis_analysis/.venv/lib/python3.9/site-packages (from ultralytics) (2.5.1)\n",
      "Requirement already satisfied: scipy>=1.4.1 in /Users/patrick/Documents/dev/ai_tennis_analysis/.venv/lib/python3.9/site-packages (from ultralytics) (1.13.1)\n",
      "Requirement already satisfied: tqdm>=4.64.0 in /Users/patrick/Documents/dev/ai_tennis_analysis/.venv/lib/python3.9/site-packages (from ultralytics) (4.67.1)\n",
      "Requirement already satisfied: psutil in /Users/patrick/Documents/dev/ai_tennis_analysis/.venv/lib/python3.9/site-packages (from ultralytics) (6.1.1)\n",
      "Requirement already satisfied: requests>=2.23.0 in /Users/patrick/Documents/dev/ai_tennis_analysis/.venv/lib/python3.9/site-packages (from ultralytics) (2.32.3)\n",
      "Requirement already satisfied: matplotlib>=3.3.0 in /Users/patrick/Documents/dev/ai_tennis_analysis/.venv/lib/python3.9/site-packages (from ultralytics) (3.9.4)\n",
      "Requirement already satisfied: pillow>=7.1.2 in /Users/patrick/Documents/dev/ai_tennis_analysis/.venv/lib/python3.9/site-packages (from ultralytics) (11.1.0)\n",
      "Requirement already satisfied: torchvision>=0.9.0 in /Users/patrick/Documents/dev/ai_tennis_analysis/.venv/lib/python3.9/site-packages (from ultralytics) (0.20.1)\n",
      "Requirement already satisfied: py-cpuinfo in /Users/patrick/Documents/dev/ai_tennis_analysis/.venv/lib/python3.9/site-packages (from ultralytics) (9.0.0)\n",
      "Requirement already satisfied: pandas>=1.1.4 in /Users/patrick/Documents/dev/ai_tennis_analysis/.venv/lib/python3.9/site-packages (from ultralytics) (2.2.3)\n",
      "Requirement already satisfied: ultralytics-thop>=2.0.0 in /Users/patrick/Documents/dev/ai_tennis_analysis/.venv/lib/python3.9/site-packages (from ultralytics) (2.0.13)\n",
      "Requirement already satisfied: pyyaml>=5.3.1 in /Users/patrick/Documents/dev/ai_tennis_analysis/.venv/lib/python3.9/site-packages (from ultralytics) (6.0.2)\n",
      "Requirement already satisfied: opencv-python>=4.6.0 in /Users/patrick/Documents/dev/ai_tennis_analysis/.venv/lib/python3.9/site-packages (from ultralytics) (4.10.0.84)\n",
      "Requirement already satisfied: kiwisolver>=1.3.1 in /Users/patrick/Documents/dev/ai_tennis_analysis/.venv/lib/python3.9/site-packages (from matplotlib>=3.3.0->ultralytics) (1.4.7)\n",
      "Requirement already satisfied: cycler>=0.10 in /Users/patrick/Documents/dev/ai_tennis_analysis/.venv/lib/python3.9/site-packages (from matplotlib>=3.3.0->ultralytics) (0.12.1)\n",
      "Requirement already satisfied: importlib-resources>=3.2.0 in /Users/patrick/Documents/dev/ai_tennis_analysis/.venv/lib/python3.9/site-packages (from matplotlib>=3.3.0->ultralytics) (6.5.2)\n",
      "Requirement already satisfied: packaging>=20.0 in /Users/patrick/Documents/dev/ai_tennis_analysis/.venv/lib/python3.9/site-packages (from matplotlib>=3.3.0->ultralytics) (24.2)\n",
      "Requirement already satisfied: contourpy>=1.0.1 in /Users/patrick/Documents/dev/ai_tennis_analysis/.venv/lib/python3.9/site-packages (from matplotlib>=3.3.0->ultralytics) (1.3.0)\n",
      "Requirement already satisfied: pyparsing>=2.3.1 in /Users/patrick/Documents/dev/ai_tennis_analysis/.venv/lib/python3.9/site-packages (from matplotlib>=3.3.0->ultralytics) (3.2.1)\n",
      "Requirement already satisfied: python-dateutil>=2.7 in /Users/patrick/Documents/dev/ai_tennis_analysis/.venv/lib/python3.9/site-packages (from matplotlib>=3.3.0->ultralytics) (2.9.0.post0)\n",
      "Requirement already satisfied: fonttools>=4.22.0 in /Users/patrick/Documents/dev/ai_tennis_analysis/.venv/lib/python3.9/site-packages (from matplotlib>=3.3.0->ultralytics) (4.55.3)\n",
      "Requirement already satisfied: zipp>=3.1.0 in /Users/patrick/Documents/dev/ai_tennis_analysis/.venv/lib/python3.9/site-packages (from importlib-resources>=3.2.0->matplotlib>=3.3.0->ultralytics) (3.21.0)\n",
      "Requirement already satisfied: tzdata>=2022.7 in /Users/patrick/Documents/dev/ai_tennis_analysis/.venv/lib/python3.9/site-packages (from pandas>=1.1.4->ultralytics) (2024.2)\n",
      "Requirement already satisfied: pytz>=2020.1 in /Users/patrick/Documents/dev/ai_tennis_analysis/.venv/lib/python3.9/site-packages (from pandas>=1.1.4->ultralytics) (2024.2)\n",
      "Requirement already satisfied: six>=1.5 in /Users/patrick/Documents/dev/ai_tennis_analysis/.venv/lib/python3.9/site-packages (from python-dateutil>=2.7->matplotlib>=3.3.0->ultralytics) (1.17.0)\n",
      "Requirement already satisfied: charset-normalizer<4,>=2 in /Users/patrick/Documents/dev/ai_tennis_analysis/.venv/lib/python3.9/site-packages (from requests>=2.23.0->ultralytics) (3.4.1)\n",
      "Requirement already satisfied: certifi>=2017.4.17 in /Users/patrick/Documents/dev/ai_tennis_analysis/.venv/lib/python3.9/site-packages (from requests>=2.23.0->ultralytics) (2024.12.14)\n",
      "Requirement already satisfied: urllib3<3,>=1.21.1 in /Users/patrick/Documents/dev/ai_tennis_analysis/.venv/lib/python3.9/site-packages (from requests>=2.23.0->ultralytics) (2.3.0)\n",
      "Requirement already satisfied: idna<4,>=2.5 in /Users/patrick/Documents/dev/ai_tennis_analysis/.venv/lib/python3.9/site-packages (from requests>=2.23.0->ultralytics) (3.7)\n",
      "Requirement already satisfied: fsspec in /Users/patrick/Documents/dev/ai_tennis_analysis/.venv/lib/python3.9/site-packages (from torch>=1.8.0->ultralytics) (2024.12.0)\n",
      "Requirement already satisfied: typing-extensions>=4.8.0 in /Users/patrick/Documents/dev/ai_tennis_analysis/.venv/lib/python3.9/site-packages (from torch>=1.8.0->ultralytics) (4.12.2)\n",
      "Requirement already satisfied: filelock in /Users/patrick/Documents/dev/ai_tennis_analysis/.venv/lib/python3.9/site-packages (from torch>=1.8.0->ultralytics) (3.16.1)\n",
      "Requirement already satisfied: networkx in /Users/patrick/Documents/dev/ai_tennis_analysis/.venv/lib/python3.9/site-packages (from torch>=1.8.0->ultralytics) (3.2.1)\n",
      "Requirement already satisfied: jinja2 in /Users/patrick/Documents/dev/ai_tennis_analysis/.venv/lib/python3.9/site-packages (from torch>=1.8.0->ultralytics) (3.1.5)\n",
      "Requirement already satisfied: sympy==1.13.1 in /Users/patrick/Documents/dev/ai_tennis_analysis/.venv/lib/python3.9/site-packages (from torch>=1.8.0->ultralytics) (1.13.1)\n",
      "Requirement already satisfied: mpmath<1.4,>=1.1.0 in /Users/patrick/Documents/dev/ai_tennis_analysis/.venv/lib/python3.9/site-packages (from sympy==1.13.1->torch>=1.8.0->ultralytics) (1.3.0)\n",
      "Requirement already satisfied: MarkupSafe>=2.0 in /Users/patrick/Documents/dev/ai_tennis_analysis/.venv/lib/python3.9/site-packages (from jinja2->torch>=1.8.0->ultralytics) (3.0.2)\n",
      "\u001b[33mWARNING: You are using pip version 21.2.4; however, version 24.3.1 is available.\n",
      "You should consider upgrading via the '/Users/patrick/Documents/dev/ai_tennis_analysis/.venv/bin/python3 -m pip install --upgrade pip' command.\u001b[0m\n"
     ]
    }
   ],
   "source": [
    "!pip install roboflow\n",
    "!pip install ultralytics"
   ]
  },
  {
   "cell_type": "markdown",
   "metadata": {},
   "source": [
    "# Get Dataset"
   ]
  },
  {
   "cell_type": "code",
   "execution_count": 2,
   "metadata": {},
   "outputs": [
    {
     "name": "stderr",
     "output_type": "stream",
     "text": [
      "/Users/patrick/Documents/dev/ai_tennis_analysis/.venv/lib/python3.9/site-packages/urllib3/__init__.py:35: NotOpenSSLWarning: urllib3 v2 only supports OpenSSL 1.1.1+, currently the 'ssl' module is compiled with 'LibreSSL 2.8.3'. See: https://github.com/urllib3/urllib3/issues/3020\n",
      "  warnings.warn(\n"
     ]
    },
    {
     "ename": "RuntimeError",
     "evalue": "{\n    \"error\": {\n        \"message\": \"This API key does not exist (or has been revoked).\",\n        \"status\": 401,\n        \"type\": \"OAuthException\",\n        \"hint\": \"You may retrieve your API key via the Roboflow Dashboard. Go to Account > Roboflow Keys to retrieve yours.\",\n        \"key\": \"unauthorized\"\n    }\n}",
     "output_type": "error",
     "traceback": [
      "\u001b[0;31m---------------------------------------------------------------------------\u001b[0m",
      "\u001b[0;31mRuntimeError\u001b[0m                              Traceback (most recent call last)",
      "Cell \u001b[0;32mIn[2], line 2\u001b[0m\n\u001b[1;32m      1\u001b[0m \u001b[38;5;28;01mfrom\u001b[39;00m\u001b[38;5;250m \u001b[39m\u001b[38;5;21;01mroboflow\u001b[39;00m\u001b[38;5;250m \u001b[39m\u001b[38;5;28;01mimport\u001b[39;00m Roboflow\n\u001b[0;32m----> 2\u001b[0m rf \u001b[38;5;241m=\u001b[39m \u001b[43mRoboflow\u001b[49m\u001b[43m(\u001b[49m\u001b[43mapi_key\u001b[49m\u001b[38;5;241;43m=\u001b[39;49m\u001b[38;5;124;43m\"\u001b[39;49m\u001b[38;5;124;43munauthorized\u001b[39;49m\u001b[38;5;124;43m\"\u001b[39;49m\u001b[43m)\u001b[49m\n\u001b[1;32m      3\u001b[0m project \u001b[38;5;241m=\u001b[39m rf\u001b[38;5;241m.\u001b[39mworkspace(\u001b[38;5;124m\"\u001b[39m\u001b[38;5;124mviren-dhanwani\u001b[39m\u001b[38;5;124m\"\u001b[39m)\u001b[38;5;241m.\u001b[39mproject(\u001b[38;5;124m\"\u001b[39m\u001b[38;5;124mtennis-ball-detection\u001b[39m\u001b[38;5;124m\"\u001b[39m)\n\u001b[1;32m      4\u001b[0m version \u001b[38;5;241m=\u001b[39m project\u001b[38;5;241m.\u001b[39mversion(\u001b[38;5;241m6\u001b[39m)\n",
      "File \u001b[0;32m~/Documents/dev/ai_tennis_analysis/.venv/lib/python3.9/site-packages/roboflow/__init__.py:217\u001b[0m, in \u001b[0;36mRoboflow.__init__\u001b[0;34m(self, api_key, model_format, notebook)\u001b[0m\n\u001b[1;32m    215\u001b[0m \u001b[38;5;28mself\u001b[39m\u001b[38;5;241m.\u001b[39mnotebook \u001b[38;5;241m=\u001b[39m notebook\n\u001b[1;32m    216\u001b[0m \u001b[38;5;28mself\u001b[39m\u001b[38;5;241m.\u001b[39monboarding \u001b[38;5;241m=\u001b[39m \u001b[38;5;28;01mFalse\u001b[39;00m\n\u001b[0;32m--> 217\u001b[0m \u001b[38;5;28;43mself\u001b[39;49m\u001b[38;5;241;43m.\u001b[39;49m\u001b[43mauth\u001b[49m\u001b[43m(\u001b[49m\u001b[43m)\u001b[49m\n",
      "File \u001b[0;32m~/Documents/dev/ai_tennis_analysis/.venv/lib/python3.9/site-packages/roboflow/__init__.py:220\u001b[0m, in \u001b[0;36mRoboflow.auth\u001b[0;34m(self)\u001b[0m\n\u001b[1;32m    219\u001b[0m \u001b[38;5;28;01mdef\u001b[39;00m\u001b[38;5;250m \u001b[39m\u001b[38;5;21mauth\u001b[39m(\u001b[38;5;28mself\u001b[39m):\n\u001b[0;32m--> 220\u001b[0m     r \u001b[38;5;241m=\u001b[39m \u001b[43mcheck_key\u001b[49m\u001b[43m(\u001b[49m\u001b[38;5;28;43mself\u001b[39;49m\u001b[38;5;241;43m.\u001b[39;49m\u001b[43mapi_key\u001b[49m\u001b[43m,\u001b[49m\u001b[43m \u001b[49m\u001b[38;5;28;43mself\u001b[39;49m\u001b[38;5;241;43m.\u001b[39;49m\u001b[43mmodel_format\u001b[49m\u001b[43m,\u001b[49m\u001b[43m \u001b[49m\u001b[38;5;28;43mself\u001b[39;49m\u001b[38;5;241;43m.\u001b[39;49m\u001b[43mnotebook\u001b[49m\u001b[43m)\u001b[49m\n\u001b[1;32m    222\u001b[0m     \u001b[38;5;28;01mif\u001b[39;00m r \u001b[38;5;241m==\u001b[39m \u001b[38;5;124m\"\u001b[39m\u001b[38;5;124monboarding\u001b[39m\u001b[38;5;124m\"\u001b[39m:\n\u001b[1;32m    223\u001b[0m         \u001b[38;5;28mself\u001b[39m\u001b[38;5;241m.\u001b[39monboarding \u001b[38;5;241m=\u001b[39m \u001b[38;5;28;01mTrue\u001b[39;00m\n",
      "File \u001b[0;32m~/Documents/dev/ai_tennis_analysis/.venv/lib/python3.9/site-packages/roboflow/__init__.py:36\u001b[0m, in \u001b[0;36mcheck_key\u001b[0;34m(api_key, model, notebook, num_retries)\u001b[0m\n\u001b[1;32m     33\u001b[0m response \u001b[38;5;241m=\u001b[39m requests\u001b[38;5;241m.\u001b[39mpost(API_URL \u001b[38;5;241m+\u001b[39m \u001b[38;5;124m\"\u001b[39m\u001b[38;5;124m/?api_key=\u001b[39m\u001b[38;5;124m\"\u001b[39m \u001b[38;5;241m+\u001b[39m api_key)\n\u001b[1;32m     35\u001b[0m \u001b[38;5;28;01mif\u001b[39;00m response\u001b[38;5;241m.\u001b[39mstatus_code \u001b[38;5;241m==\u001b[39m \u001b[38;5;241m401\u001b[39m:\n\u001b[0;32m---> 36\u001b[0m     \u001b[38;5;28;01mraise\u001b[39;00m \u001b[38;5;167;01mRuntimeError\u001b[39;00m(response\u001b[38;5;241m.\u001b[39mtext)\n\u001b[1;32m     38\u001b[0m \u001b[38;5;28;01mif\u001b[39;00m response\u001b[38;5;241m.\u001b[39mstatus_code \u001b[38;5;241m!=\u001b[39m \u001b[38;5;241m200\u001b[39m:\n\u001b[1;32m     39\u001b[0m     \u001b[38;5;66;03m# retry 5 times\u001b[39;00m\n\u001b[1;32m     40\u001b[0m     \u001b[38;5;28;01mif\u001b[39;00m num_retries \u001b[38;5;241m<\u001b[39m \u001b[38;5;241m5\u001b[39m:\n",
      "\u001b[0;31mRuntimeError\u001b[0m: {\n    \"error\": {\n        \"message\": \"This API key does not exist (or has been revoked).\",\n        \"status\": 401,\n        \"type\": \"OAuthException\",\n        \"hint\": \"You may retrieve your API key via the Roboflow Dashboard. Go to Account > Roboflow Keys to retrieve yours.\",\n        \"key\": \"unauthorized\"\n    }\n}"
     ]
    }
   ],
   "source": [
    "from roboflow import Roboflow\n",
    "rf = Roboflow(api_key=\"unauthorized\")\n",
    "project = rf.workspace(\"viren-dhanwani\").project(\"tennis-ball-detection\")\n",
    "version = project.version(6)\n",
    "dataset = version.download(\"yolov5\")\n",
    "                "
   ]
  }
 ],
 "metadata": {
  "kernelspec": {
   "display_name": ".venv",
   "language": "python",
   "name": "python3"
  },
  "language_info": {
   "codemirror_mode": {
    "name": "ipython",
    "version": 3
   },
   "file_extension": ".py",
   "mimetype": "text/x-python",
   "name": "python",
   "nbconvert_exporter": "python",
   "pygments_lexer": "ipython3",
   "version": "3.9.6"
  }
 },
 "nbformat": 4,
 "nbformat_minor": 2
}
